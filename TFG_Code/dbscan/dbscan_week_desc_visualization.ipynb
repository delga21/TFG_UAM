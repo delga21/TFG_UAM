{
 "cells": [
  {
   "cell_type": "code",
   "execution_count": null,
   "id": "aa49aa9b-37a4-4672-8758-cd426784b394",
   "metadata": {},
   "outputs": [],
   "source": [
    "import numpy as np\n",
    "import glob\n",
    "import umap\n",
    "import matplotlib.pyplot as plt\n",
    "from sklearn.cluster import DBSCAN\n",
    "\n",
    "# Example\n",
    "descriptors = []\n",
    "\n",
    "files = glob.glob(\"descriptors/week/descriptor*.npy\")\n",
    "for file in files:\n",
    "    partes = file.split(\"/\")\n",
    "    if len(partes) > 1:\n",
    "        file_name = partes[-1]\n",
    "        \n",
    "    descriptor = np.load(file).sum(axis=1)\n",
    "    descriptors += [descriptor]\n",
    "\n",
    "descriptors = np.asarray(np.matrix(descriptors))\n",
    "descriptors = np.nan_to_num(descriptors)\n",
    "\n",
    "# Number of clusters to user\n",
    "eps = 0.5\n",
    "min_samples = 5\n",
    "\n",
    "# DBSCAN object with eps and min_samples\n",
    "dbscan = DBSCAN(eps=eps, min_samples=min_samples)\n",
    "\n",
    "# Adjust DBSCAN to our descriptor\n",
    "dbscan.fit(descriptor)\n",
    "\n",
    "# Get the labels assigned to every \n",
    "labels = dbscan.labels_\n",
    "\n",
    "# Visualize the clusters using UMAP\n",
    "reducer = umap.UMAP()\n",
    "\n",
    "# Fit and transform the data to 2 dimensions\n",
    "descriptor_umap = reducer.fit_transform(descriptor)\n",
    "\n",
    "# Plot the clusters\n",
    "plt.figure(figsize=(8, 6))\n",
    "\n",
    "# Plot each data point with a color corresponding to its cluster\n",
    "for i in range(len(np.unique(labels))):\n",
    "    plt.scatter(descriptor_umap[labels == i, 0], descriptor_umap[labels == i, 1], label=f'Cluster {i}')\n",
    "\n",
    "plt.title('Clustering de Descriptores con DBSCAN y UMAP')\n",
    "plt.xlabel('UMAP Dimension 1')\n",
    "plt.ylabel('UMAP Dimension 2')\n",
    "plt.legend()\n",
    "plt.grid(True)\n",
    "plt.savefig(\"descriptors/visual_desc/week/dbscan_week_cluster.png\")\n",
    "plt.close()\n"
   ]
  }
 ],
 "metadata": {
  "kernelspec": {
   "display_name": "Python 3 (ipykernel)",
   "language": "python",
   "name": "python3"
  },
  "language_info": {
   "codemirror_mode": {
    "name": "ipython",
    "version": 3
   },
   "file_extension": ".py",
   "mimetype": "text/x-python",
   "name": "python",
   "nbconvert_exporter": "python",
   "pygments_lexer": "ipython3",
   "version": "3.11.6"
  }
 },
 "nbformat": 4,
 "nbformat_minor": 5
}
