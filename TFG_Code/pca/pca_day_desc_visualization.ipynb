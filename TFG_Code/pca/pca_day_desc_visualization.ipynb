{
 "cells": [
  {
   "cell_type": "code",
   "execution_count": 1,
   "id": "4d4c7396-510a-4fa5-b13a-be2a4e5f446a",
   "metadata": {},
   "outputs": [
    {
     "name": "stdout",
     "output_type": "stream",
     "text": [
      "/home/users/adelgado\n"
     ]
    }
   ],
   "source": [
    "%cd /home/users/adelgado"
   ]
  },
  {
   "cell_type": "code",
   "execution_count": 2,
   "id": "cc0d1ee5-1fb0-4ad1-8fcd-40387aac90c0",
   "metadata": {},
   "outputs": [
    {
     "name": "stderr",
     "output_type": "stream",
     "text": [
      "Matplotlib created a temporary cache directory at /tmp/matplotlib-je6g90w4 because the default path (/home/adelgado/.cache/matplotlib) is not a writable directory; it is highly recommended to set the MPLCONFIGDIR environment variable to a writable directory, in particular to speed up the import of Matplotlib and to better support multiprocessing.\n",
      "/opt/conda/lib/python3.11/site-packages/sklearn/cluster/_kmeans.py:1416: FutureWarning: The default value of `n_init` will change from 10 to 'auto' in 1.4. Set the value of `n_init` explicitly to suppress the warning\n",
      "  super()._check_params_vs_input(X, default_n_init=10)\n"
     ]
    }
   ],
   "source": [
    "import matplotlib.pyplot as plt\n",
    "import numpy as np\n",
    "from sklearn.cluster import KMeans\n",
    "from sklearn.decomposition import PCA\n",
    "import glob\n",
    "\n",
    "# Example\n",
    "descriptors = []\n",
    "ip_desc = {}\n",
    "\n",
    "files = glob.glob(\"descriptors/day/descriptor*.npy\")\n",
    "for file in files:\n",
    "    partes = file.split(\"/\")\n",
    "    if len(partes) > 1:\n",
    "        file_name = partes[-1]\n",
    "        palabras = file_name.split(\"_\")\n",
    "        if len(palabras) > 1:\n",
    "            ip_name = palabras[1]\n",
    "\n",
    "    descriptor = np.load(file)\n",
    "    avg_desc = descriptor.sum(axis=1) / descriptor.shape[1]\n",
    "    \n",
    "    ip_desc[ip_name] = avg_desc\n",
    "    descriptors += [avg_desc]\n",
    "\n",
    "descriptors = np.asarray(np.matrix(descriptors))\n",
    "descriptors = np.nan_to_num(descriptors)\n",
    "\n",
    "# Number of clusters to user\n",
    "n_clusters = 3\n",
    "\n",
    "# Kmeans object with n_clusters\n",
    "kmeans = KMeans(n_clusters=n_clusters)\n",
    "\n",
    "# Adjust k-means to our descriptor\n",
    "kmeans.fit(descriptors)\n",
    "\n",
    "# Get the labels assigned to every \n",
    "labels = kmeans.labels_\n",
    "\n",
    "# Get the centroids coordinates of the cluster\n",
    "centroids = kmeans.cluster_centers_ \n",
    "\n",
    "pca = PCA(n_components=2) \n",
    "descriptor_pca = pca.fit_transform(descriptors)\n",
    "\n",
    "# Obtener las coordenadas de los centroides de los clústeres en el espacio PCA\n",
    "centroids_pca = pca.transform(kmeans.cluster_centers_)\n",
    "\n",
    "# Visualizar los clústeres en el espacio PCA\n",
    "plt.figure(figsize=(8, 6))\n",
    "\n",
    "# Dibujar cada punto de datos con un color correspondiente a su clúster asignado\n",
    "for i in range(n_clusters):\n",
    "    plt.scatter(descriptor_pca[labels == i, 0], descriptor_pca[labels == i, 1], label=f'Cluster {i+1}')\n",
    "\n",
    "# Dibujar los centroides de los clústeres en el espacio PCA\n",
    "plt.scatter(centroids_pca[:, 0], centroids_pca[:, 1], s=100, c='black', marker='x', label='Centroides')\n",
    "\n",
    "plt.title('Agrupación de Descriptores con K-Means y PCA')\n",
    "plt.xlabel('Componente Principal 1')\n",
    "plt.ylabel('Componente Principal 2')\n",
    "plt.legend()\n",
    "plt.grid(True)\n",
    "plt.savefig(f\"descriptors/visual_desc/day/pca_day_cluster.pdf\")\n",
    "plt.close()"
   ]
  },
  {
   "cell_type": "code",
   "execution_count": 3,
   "id": "14d16146-d99d-4006-86ea-9ce7c8754a73",
   "metadata": {},
   "outputs": [
    {
     "data": {
      "text/plain": [
       "array([0.98199725, 0.01616676])"
      ]
     },
     "execution_count": 3,
     "metadata": {},
     "output_type": "execute_result"
    }
   ],
   "source": [
    "# Primera componente es más importante que la segunda\n",
    "pca.explained_variance_ratio_"
   ]
  },
  {
   "cell_type": "code",
   "execution_count": 4,
   "id": "bd1c2151-6f93-463d-a3f0-757012fba01e",
   "metadata": {},
   "outputs": [
    {
     "name": "stdout",
     "output_type": "stream",
     "text": [
      "52.97.232.226\n",
      "52.97.202.18\n",
      "10.2.4.19\n",
      "192.168.46.9\n"
     ]
    }
   ],
   "source": [
    "# OUTLIER (-5000, 1300)\n",
    "\n",
    "# Analize the point in (X, Y)\n",
    "x = -5000  # X coord \n",
    "y = 1300  # Y coord\n",
    "\n",
    "# Encuentra los índices de los puntos más cercanos en el espacio PCA\n",
    "distancias = np.sqrt((descriptor_pca[:, 0] - x)**2 + (descriptor_pca[:, 1] - y)**2)\n",
    "indice_punto_interes = np.argsort(distancias)[1:5]\n",
    "\n",
    "# Accede al descriptor correspondiente al punto de interés\n",
    "descriptor_interes = descriptors[indice_punto_interes]\n",
    "\n",
    "for i in range(0,4):\n",
    "    for clave, val in ip_desc.items():\n",
    "        if str(val) == str(descriptor_interes[i]):\n",
    "            print(clave)"
   ]
  },
  {
   "cell_type": "code",
   "execution_count": 5,
   "id": "4f8f6f69-db4d-4a23-beb6-4525c97cfb72",
   "metadata": {},
   "outputs": [
    {
     "name": "stdout",
     "output_type": "stream",
     "text": [
      "172.30.33.106\n",
      "52.215.6.109\n",
      "10.200.65.44\n",
      "52.31.27.3\n"
     ]
    }
   ],
   "source": [
    "# OUTLIER (15000, 250)\n",
    "\n",
    "# Analize the point in (X, Y)\n",
    "x = 15000  # X coord \n",
    "y = 250  # Y coord\n",
    "\n",
    "# Encuentra los índices de los puntos más cercanos en el espacio PCA\n",
    "distancias = np.sqrt((descriptor_pca[:, 0] - x)**2 + (descriptor_pca[:, 1] - y)**2)\n",
    "indice_punto_interes = np.argsort(distancias)[1:5]\n",
    "\n",
    "# Accede al descriptor correspondiente al punto de interés\n",
    "descriptor_interes = descriptors[indice_punto_interes]\n",
    "\n",
    "for i in range(0,4):\n",
    "    for clave, val in ip_desc.items():\n",
    "        if str(val) == str(descriptor_interes[i]):\n",
    "            print(clave)"
   ]
  },
  {
   "cell_type": "code",
   "execution_count": 6,
   "id": "91327bdf-fc2a-486c-b055-c9f5c0ce1333",
   "metadata": {},
   "outputs": [
    {
     "name": "stdout",
     "output_type": "stream",
     "text": [
      "172.30.98.234\n",
      "172.30.98.182\n",
      "172.31.134.107\n",
      "192.168.182.201\n"
     ]
    }
   ],
   "source": [
    "# Centroid (0, 0)\n",
    "\n",
    "# Analize the point in (X, Y)\n",
    "x = 0  # X coord \n",
    "y = 0  # Y coord\n",
    "\n",
    "# Encuentra los índices de los puntos más cercanos en el espacio PCA\n",
    "distancias = np.sqrt((descriptor_pca[:, 0] - x)**2 + (descriptor_pca[:, 1] - y)**2)\n",
    "indice_punto_interes = np.argsort(distancias)[1:5]\n",
    "\n",
    "# Accede al descriptor correspondiente al punto de interés\n",
    "descriptor_interes = descriptors[indice_punto_interes]\n",
    "\n",
    "for i in range(0,4):\n",
    "    for clave, val in ip_desc.items():\n",
    "        if str(val) == str(descriptor_interes[i]):\n",
    "            print(clave)"
   ]
  },
  {
   "cell_type": "code",
   "execution_count": 7,
   "id": "84065fc6-928a-47c8-9828-b1fb8314c493",
   "metadata": {},
   "outputs": [
    {
     "name": "stdout",
     "output_type": "stream",
     "text": [
      "172.30.33.106\n",
      "52.215.6.109\n",
      "10.200.65.44\n",
      "52.31.27.3\n"
     ]
    }
   ],
   "source": [
    "# Centroid (2000, 0)\n",
    "\n",
    "# Analize the point in (X, Y)\n",
    "x = 2000  # X coord \n",
    "y = 0  # Y coord\n",
    "\n",
    "# Encuentra los índices de los puntos más cercanos en el espacio PCA\n",
    "distancias = np.sqrt((descriptor_pca[:, 0] - x)**2 + (descriptor_pca[:, 1] - y)**2)\n",
    "indice_punto_interes = np.argsort(distancias)[1:5]\n",
    "\n",
    "# Accede al descriptor correspondiente al punto de interés\n",
    "descriptor_interes = descriptors[indice_punto_interes]\n",
    "\n",
    "for i in range(0,4):\n",
    "    for clave, val in ip_desc.items():\n",
    "        if str(val) == str(descriptor_interes[i]):\n",
    "            print(clave)"
   ]
  },
  {
   "cell_type": "code",
   "execution_count": 8,
   "id": "9dc0988e-6f77-4d65-b996-f62fe06cdd09",
   "metadata": {},
   "outputs": [
    {
     "name": "stdout",
     "output_type": "stream",
     "text": [
      "52.97.232.226\n",
      "52.97.202.18\n",
      "10.2.4.19\n",
      "192.168.46.9\n"
     ]
    }
   ],
   "source": [
    "# Centroid (-2000, 0)\n",
    "\n",
    "# Analize the point in (X, Y)\n",
    "x = -2000  # X coord \n",
    "y = 0  # Y coord\n",
    "\n",
    "# Encuentra los índices de los puntos más cercanos en el espacio PCA\n",
    "distancias = np.sqrt((descriptor_pca[:, 0] - x)**2 + (descriptor_pca[:, 1] - y)**2)\n",
    "indice_punto_interes = np.argsort(distancias)[1:5]\n",
    "\n",
    "# Accede al descriptor correspondiente al punto de interés\n",
    "descriptor_interes = descriptors[indice_punto_interes]\n",
    "\n",
    "for i in range(0,4):\n",
    "    for clave, val in ip_desc.items():\n",
    "        if str(val) == str(descriptor_interes[i]):\n",
    "            print(clave)"
   ]
  }
 ],
 "metadata": {
  "kernelspec": {
   "display_name": "Python 3 (ipykernel)",
   "language": "python",
   "name": "python3"
  },
  "language_info": {
   "codemirror_mode": {
    "name": "ipython",
    "version": 3
   },
   "file_extension": ".py",
   "mimetype": "text/x-python",
   "name": "python",
   "nbconvert_exporter": "python",
   "pygments_lexer": "ipython3",
   "version": "3.11.6"
  }
 },
 "nbformat": 4,
 "nbformat_minor": 5
}
