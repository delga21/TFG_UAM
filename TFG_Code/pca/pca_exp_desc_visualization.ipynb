{
 "cells": [
  {
   "cell_type": "code",
   "execution_count": 1,
   "id": "e0f11fa0-7b76-4390-8f11-1b8e82c291b6",
   "metadata": {},
   "outputs": [
    {
     "name": "stdout",
     "output_type": "stream",
     "text": [
      "/home/users/adelgado\n"
     ]
    }
   ],
   "source": [
    "%cd /home/users/adelgado"
   ]
  },
  {
   "cell_type": "code",
   "execution_count": 2,
   "id": "0c0217f8-bd75-45c8-b838-d4182cf8dc00",
   "metadata": {},
   "outputs": [
    {
     "name": "stderr",
     "output_type": "stream",
     "text": [
      "Matplotlib created a temporary cache directory at /tmp/matplotlib-fmdz2o52 because the default path (/home/adelgado/.cache/matplotlib) is not a writable directory; it is highly recommended to set the MPLCONFIGDIR environment variable to a writable directory, in particular to speed up the import of Matplotlib and to better support multiprocessing.\n",
      "/opt/conda/lib/python3.11/site-packages/sklearn/cluster/_kmeans.py:1416: FutureWarning: The default value of `n_init` will change from 10 to 'auto' in 1.4. Set the value of `n_init` explicitly to suppress the warning\n",
      "  super()._check_params_vs_input(X, default_n_init=10)\n"
     ]
    }
   ],
   "source": [
    "import matplotlib.pyplot as plt\n",
    "import numpy as np\n",
    "from sklearn.cluster import KMeans\n",
    "from sklearn.decomposition import PCA\n",
    "import glob\n",
    "\n",
    "# Example\n",
    "descriptors = []\n",
    "ip_list = []\n",
    "ip_desc = {}\n",
    "\n",
    "files = glob.glob(\"descriptors/exp/descriptor*.npy\")\n",
    "for file in files:\n",
    "    partes = file.split(\"/\")\n",
    "    if len(partes) > 1:\n",
    "        file_name = partes[-1]\n",
    "        palabras = file_name.split(\"_\")\n",
    "        if len(palabras) > 1:\n",
    "            ip_name = palabras[1]\n",
    "\n",
    "    # Hacer la media para comparar con otro periodo de tiempo\n",
    "    #descriptor = np.load(file)\n",
    "    #avg_desc = descriptor.sum(axis=1) / descriptor.shape[1]\n",
    "    \n",
    "    #ip_desc[ip_name] = avg_desc\n",
    "    #descriptors += [avg_desc]\n",
    "\n",
    "    descriptor = np.load(file).sum(axis=1)\n",
    "    descriptors += [descriptor]\n",
    "\n",
    "    ip_desc[ip_name] = descriptor\n",
    "\n",
    "    # Probar con una lista de IPs\n",
    "    # ip_list += [ip_name]\n",
    "\n",
    "#with open(\"ip_dict.txt\", \"w\") as f:\n",
    "#f.write(str(ip_desc))\n",
    "\n",
    "descriptors = np.asarray(np.matrix(descriptors))\n",
    "descriptors = np.nan_to_num(descriptors)\n",
    "\n",
    "# Number of clusters to user\n",
    "n_clusters = 3\n",
    "\n",
    "# Kmeans object with n_clusters\n",
    "kmeans = KMeans(n_clusters=n_clusters)\n",
    "\n",
    "# Adjust k-means to our descriptor\n",
    "kmeans.fit(descriptors)\n",
    "\n",
    "# Get the labels assigned to every \n",
    "labels = kmeans.labels_\n",
    "\n",
    "# Get the centroids coordinates of the cluster\n",
    "centroids = kmeans.cluster_centers_ \n",
    "\n",
    "pca = PCA(n_components=2) \n",
    "descriptor_pca = pca.fit_transform(descriptors)\n",
    "\n",
    "# Obtener las coordenadas de los centroides de los clústeres en el espacio PCA\n",
    "centroids_pca = pca.transform(kmeans.cluster_centers_)\n",
    "\n",
    "# Visualizar los clústeres en el espacio PCA\n",
    "plt.figure(figsize=(8, 6))\n",
    "\n",
    "# Dibujar cada punto de datos con un color correspondiente a su clúster asignado\n",
    "for i in range(n_clusters):\n",
    "    plt.scatter(descriptor_pca[labels == i, 0], descriptor_pca[labels == i, 1], label=f'Cluster {i+1}')\n",
    "\n",
    "# Dibujar los centroides de los clústeres en el espacio PCA\n",
    "plt.scatter(centroids_pca[:, 0], centroids_pca[:, 1], s=100, c='black', marker='x', label='Centroides')\n",
    "\n",
    "plt.title('Agrupación de Descriptores con K-Means y PCA')\n",
    "plt.xlabel('Componente Principal 1')\n",
    "plt.ylabel('Componente Principal 2')\n",
    "plt.legend()\n",
    "plt.grid(True)\n",
    "plt.savefig(f\"descriptors/visual_desc/exp/pca_exp_cluster.pdf\")\n",
    "plt.close()\n"
   ]
  },
  {
   "cell_type": "code",
   "execution_count": 3,
   "id": "73830ba2-5206-4142-b046-ee883016ced6",
   "metadata": {},
   "outputs": [
    {
     "data": {
      "text/plain": [
       "array([0.97271879, 0.02493536])"
      ]
     },
     "execution_count": 3,
     "metadata": {},
     "output_type": "execute_result"
    }
   ],
   "source": [
    "# Primera componente es más importante que la segunda\n",
    "pca.explained_variance_ratio_"
   ]
  },
  {
   "cell_type": "code",
   "execution_count": 4,
   "id": "afb8c675-bc64-4c86-9b8c-8e637b53121a",
   "metadata": {},
   "outputs": [
    {
     "name": "stdout",
     "output_type": "stream",
     "text": [
      "10.200.25.83\n",
      "172.24.1.187\n",
      "192.168.182.115\n",
      "172.30.98.80\n"
     ]
    }
   ],
   "source": [
    "# OUTLIER (-5, 0)\n",
    "\n",
    "# Analize the point in (X, Y)\n",
    "x = -5  # X coord \n",
    "y = 0  # Y coord\n",
    "\n",
    "# Encuentra los índices de los puntos más cercanos en el espacio PCA\n",
    "distancias = np.sqrt((descriptor_pca[:, 0] - x)**2 + (descriptor_pca[:, 1] - y)**2)\n",
    "indice_punto_interes = np.argsort(distancias)[1:5]\n",
    "\n",
    "# Accede al descriptor correspondiente al punto de interés\n",
    "descriptor_interes = descriptors[indice_punto_interes]\n",
    "\n",
    "for i in range(0,4):\n",
    "    for clave, val in ip_desc.items():\n",
    "        if str(val) == str(descriptor_interes[i]):\n",
    "            print(clave)"
   ]
  },
  {
   "cell_type": "code",
   "execution_count": 5,
   "id": "e2458779-65a9-4a4e-84f7-6f3c61fc3906",
   "metadata": {},
   "outputs": [
    {
     "name": "stdout",
     "output_type": "stream",
     "text": [
      "10.131.37.247\n",
      "172.30.93.139\n",
      "10.130.2.175\n",
      "10.200.34.44\n"
     ]
    }
   ],
   "source": [
    "# OUTLIER (5, -1)\n",
    "\n",
    "# Analize the point in (X, Y)\n",
    "x = 5  # X coord \n",
    "y = -1  # Y coord\n",
    "\n",
    "# Encuentra los índices de los puntos más cercanos en el espacio PCA\n",
    "distancias = np.sqrt((descriptor_pca[:, 0] - x)**2 + (descriptor_pca[:, 1] - y)**2)\n",
    "indice_punto_interes = np.argsort(distancias)[1:5]\n",
    "\n",
    "# Accede al descriptor correspondiente al punto de interés\n",
    "descriptor_interes = descriptors[indice_punto_interes]\n",
    "\n",
    "for i in range(0,4):\n",
    "    for clave, val in ip_desc.items():\n",
    "        if str(val) == str(descriptor_interes[i]):\n",
    "            print(clave)"
   ]
  },
  {
   "cell_type": "code",
   "execution_count": 6,
   "id": "85f3766b-95d2-474c-88d9-d26db858d5dd",
   "metadata": {},
   "outputs": [
    {
     "name": "stdout",
     "output_type": "stream",
     "text": [
      "172.30.90.115\n",
      "10.200.25.134\n",
      "172.30.97.155\n",
      "172.30.95.41\n"
     ]
    }
   ],
   "source": [
    "# Blue cluster (0, 0)\n",
    "\n",
    "# Analize the point in (X, Y)\n",
    "x = 0  # X coord \n",
    "y = 0  # Y coord\n",
    "\n",
    "# Encuentra los índices de los puntos más cercanos en el espacio PCA\n",
    "distancias = np.sqrt((descriptor_pca[:, 0] - x)**2 + (descriptor_pca[:, 1] - y)**2)\n",
    "indice_punto_interes = np.argsort(distancias)[1:5]\n",
    "\n",
    "# Accede al descriptor correspondiente al punto de interés\n",
    "descriptor_interes = descriptors[indice_punto_interes]\n",
    "\n",
    "for i in range(0,4):\n",
    "    for clave, val in ip_desc.items():\n",
    "        if str(val) == str(descriptor_interes[i]):\n",
    "            print(clave)"
   ]
  },
  {
   "cell_type": "code",
   "execution_count": 7,
   "id": "9217a6c0-cc41-4492-9741-1b7d7a9ed7db",
   "metadata": {},
   "outputs": [
    {
     "name": "stdout",
     "output_type": "stream",
     "text": [
      "172.30.90.196\n",
      "172.30.7.208\n",
      "172.30.82.165\n",
      "172.30.93.39\n"
     ]
    }
   ],
   "source": [
    "# Green cluster (-2, 0)\n",
    "\n",
    "# Analize the point in (X, Y)\n",
    "x = -2  # X coord \n",
    "y = 0  # Y coord\n",
    "\n",
    "# Encuentra los índices de los puntos más cercanos en el espacio PCA\n",
    "distancias = np.sqrt((descriptor_pca[:, 0] - x)**2 + (descriptor_pca[:, 1] - y)**2)\n",
    "indice_punto_interes = np.argsort(distancias)[1:5]\n",
    "\n",
    "# Accede al descriptor correspondiente al punto de interés\n",
    "descriptor_interes = descriptors[indice_punto_interes]\n",
    "\n",
    "for i in range(0,4):\n",
    "    for clave, val in ip_desc.items():\n",
    "        if str(val) == str(descriptor_interes[i]):\n",
    "            print(clave)"
   ]
  },
  {
   "cell_type": "code",
   "execution_count": 8,
   "id": "83c00f7d-040d-4581-b7ac-2a4924dfe44b",
   "metadata": {},
   "outputs": [
    {
     "name": "stdout",
     "output_type": "stream",
     "text": [
      "172.28.10.166\n",
      "93.184.221.240\n",
      "192.168.182.109\n",
      "10.200.31.167\n"
     ]
    }
   ],
   "source": [
    "# Orange cluster (2, 0)\n",
    "\n",
    "# Analize the point in (X, Y)\n",
    "x = 2  # X coord \n",
    "y = 0  # Y coord\n",
    "\n",
    "# Encuentra los índices de los puntos más cercanos en el espacio PCA\n",
    "distancias = np.sqrt((descriptor_pca[:, 0] - x)**2 + (descriptor_pca[:, 1] - y)**2)\n",
    "indice_punto_interes = np.argsort(distancias)[1:5]\n",
    "\n",
    "# Accede al descriptor correspondiente al punto de interés\n",
    "descriptor_interes = descriptors[indice_punto_interes]\n",
    "\n",
    "for i in range(0,4):\n",
    "    for clave, val in ip_desc.items():\n",
    "        if str(val) == str(descriptor_interes[i]):\n",
    "            print(clave)"
   ]
  },
  {
   "cell_type": "code",
   "execution_count": null,
   "id": "a52faf89-5db8-4a98-b261-f64231df74b6",
   "metadata": {},
   "outputs": [],
   "source": []
  }
 ],
 "metadata": {
  "kernelspec": {
   "display_name": "Python 3 (ipykernel)",
   "language": "python",
   "name": "python3"
  },
  "language_info": {
   "codemirror_mode": {
    "name": "ipython",
    "version": 3
   },
   "file_extension": ".py",
   "mimetype": "text/x-python",
   "name": "python",
   "nbconvert_exporter": "python",
   "pygments_lexer": "ipython3",
   "version": "3.11.6"
  }
 },
 "nbformat": 4,
 "nbformat_minor": 5
}
