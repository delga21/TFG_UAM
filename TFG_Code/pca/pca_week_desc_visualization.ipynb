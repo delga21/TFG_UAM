{
 "cells": [
  {
   "cell_type": "code",
   "execution_count": 1,
   "id": "65f0b582-1546-4c3d-886a-33b34b6ffc1b",
   "metadata": {},
   "outputs": [
    {
     "name": "stdout",
     "output_type": "stream",
     "text": [
      "/home/users/adelgado\n"
     ]
    }
   ],
   "source": [
    "%cd /home/users/adelgado"
   ]
  },
  {
   "cell_type": "code",
   "execution_count": 2,
   "id": "cc0d1ee5-1fb0-4ad1-8fcd-40387aac90c0",
   "metadata": {},
   "outputs": [
    {
     "name": "stderr",
     "output_type": "stream",
     "text": [
      "Matplotlib created a temporary cache directory at /tmp/matplotlib-qekbxmqb because the default path (/home/adelgado/.cache/matplotlib) is not a writable directory; it is highly recommended to set the MPLCONFIGDIR environment variable to a writable directory, in particular to speed up the import of Matplotlib and to better support multiprocessing.\n",
      "/opt/conda/lib/python3.11/site-packages/sklearn/cluster/_kmeans.py:1416: FutureWarning: The default value of `n_init` will change from 10 to 'auto' in 1.4. Set the value of `n_init` explicitly to suppress the warning\n",
      "  super()._check_params_vs_input(X, default_n_init=10)\n"
     ]
    }
   ],
   "source": [
    "import matplotlib.pyplot as plt\n",
    "import numpy as np\n",
    "from sklearn.cluster import KMeans\n",
    "from sklearn.decomposition import PCA\n",
    "import glob\n",
    "\n",
    "# Example\n",
    "descriptors = []\n",
    "ip_desc = {}\n",
    "\n",
    "files = glob.glob(\"descriptors/week/descriptor*.npy\")\n",
    "for file in files:\n",
    "    partes = file.split(\"/\")\n",
    "    if len(partes) > 1:\n",
    "        file_name = partes[-1]\n",
    "        palabras = file_name.split(\"_\")\n",
    "        if len(palabras) > 1:\n",
    "            ip_name = palabras[1]\n",
    "        \n",
    "    descriptor = np.load(file)\n",
    "    avg_desc = descriptor.sum(axis=1) / descriptor.shape[1]\n",
    "    \n",
    "    ip_desc[ip_name] = avg_desc\n",
    "    descriptors += [avg_desc]\n",
    "\n",
    "descriptors = np.asarray(np.matrix(descriptors))\n",
    "descriptors = np.nan_to_num(descriptors)\n",
    "\n",
    "# Number of clusters to user\n",
    "n_clusters = 3\n",
    "\n",
    "# Kmeans object with n_clusters\n",
    "kmeans = KMeans(n_clusters=n_clusters)\n",
    "\n",
    "# Adjust k-means to our descriptor\n",
    "kmeans.fit(descriptors)\n",
    "\n",
    "# Get the labels assigned to every \n",
    "labels = kmeans.labels_\n",
    "\n",
    "# Get the centroids coordinates of the cluster\n",
    "centroids = kmeans.cluster_centers_ \n",
    "\n",
    "pca = PCA(n_components=2) \n",
    "descriptor_pca = pca.fit_transform(descriptors)\n",
    "\n",
    "# Obtener las coordenadas de los centroides de los clústeres en el espacio PCA\n",
    "centroids_pca = pca.transform(kmeans.cluster_centers_)\n",
    "\n",
    "# Visualizar los clústeres en el espacio PCA\n",
    "plt.figure(figsize=(8, 6))\n",
    "\n",
    "# Dibujar cada punto de datos con un color correspondiente a su clúster asignado\n",
    "for i in range(n_clusters):\n",
    "    plt.scatter(descriptor_pca[labels == i, 0], descriptor_pca[labels == i, 1], label=f'Cluster {i+1}')\n",
    "\n",
    "# Dibujar los centroides de los clústeres en el espacio PCA\n",
    "plt.scatter(centroids_pca[:, 0], centroids_pca[:, 1], s=100, c='black', marker='x', label='Centroides')\n",
    "\n",
    "plt.title('Agrupación de Descriptores con K-Means y PCA')\n",
    "plt.xlabel('Componente Principal 1')\n",
    "plt.ylabel('Componente Principal 2')\n",
    "plt.legend()\n",
    "plt.grid(True)\n",
    "plt.savefig(f\"descriptors/visual_desc/week/pca_week_cluster.pdf\")\n",
    "plt.close()\n"
   ]
  },
  {
   "cell_type": "code",
   "execution_count": 3,
   "id": "4e26f7db-5136-4c92-ad7e-cb8445d8a8a8",
   "metadata": {},
   "outputs": [
    {
     "data": {
      "text/plain": [
       "array([0.94554966, 0.04885087])"
      ]
     },
     "execution_count": 3,
     "metadata": {},
     "output_type": "execute_result"
    }
   ],
   "source": [
    "# Primera componente es más importante que la segunda\n",
    "pca.explained_variance_ratio_"
   ]
  },
  {
   "cell_type": "code",
   "execution_count": 4,
   "id": "bd1c2151-6f93-463d-a3f0-757012fba01e",
   "metadata": {},
   "outputs": [
    {
     "name": "stdout",
     "output_type": "stream",
     "text": [
      "172.30.5.22\n",
      "172.30.0.62\n",
      "172.31.172.69\n",
      "172.31.132.251\n"
     ]
    }
   ],
   "source": [
    "# OUTLIER (-400000, 40000)\n",
    "\n",
    "# Analize the point in (X, Y)\n",
    "x = -400000  # X coord \n",
    "y = 40000  # Y coord\n",
    "\n",
    "# Encuentra los índices de los puntos más cercanos en el espacio PCA\n",
    "distancias = np.sqrt((descriptor_pca[:, 0] - x)**2 + (descriptor_pca[:, 1] - y)**2)\n",
    "indice_punto_interes = np.argsort(distancias)[1:5]\n",
    "\n",
    "# Accede al descriptor correspondiente al punto de interés\n",
    "descriptor_interes = descriptors[indice_punto_interes]\n",
    "\n",
    "for i in range(0,4):\n",
    "    for clave, val in ip_desc.items():\n",
    "        if str(val) == str(descriptor_interes[i]):\n",
    "            print(clave)"
   ]
  },
  {
   "cell_type": "code",
   "execution_count": 5,
   "id": "a4e08ded-ddf2-4b9f-a32c-4378581dd87f",
   "metadata": {},
   "outputs": [
    {
     "name": "stdout",
     "output_type": "stream",
     "text": [
      "172.30.0.62\n",
      "172.31.172.69\n",
      "172.30.5.22\n",
      "172.31.132.251\n"
     ]
    }
   ],
   "source": [
    "# OUTLIER (-500000, -50000)\n",
    "\n",
    "# Analize the point in (X, Y)\n",
    "x = -500000  # X coord \n",
    "y = -50000  # Y coord\n",
    "\n",
    "# Encuentra los índices de los puntos más cercanos en el espacio PCA\n",
    "distancias = np.sqrt((descriptor_pca[:, 0] - x)**2 + (descriptor_pca[:, 1] - y)**2)\n",
    "indice_punto_interes = np.argsort(distancias)[1:5]\n",
    "\n",
    "# Accede al descriptor correspondiente al punto de interés\n",
    "descriptor_interes = descriptors[indice_punto_interes]\n",
    "\n",
    "for i in range(0,4):\n",
    "    for clave, val in ip_desc.items():\n",
    "        if str(val) == str(descriptor_interes[i]):\n",
    "            print(clave)"
   ]
  },
  {
   "cell_type": "code",
   "execution_count": 6,
   "id": "ac004ce1-6660-410f-b1b7-885e9aec6ea5",
   "metadata": {},
   "outputs": [
    {
     "name": "stdout",
     "output_type": "stream",
     "text": [
      "10.200.28.163\n",
      "172.31.152.90\n",
      "10.6.1.36\n",
      "10.200.24.92\n"
     ]
    }
   ],
   "source": [
    "# Centroid (0, 0)\n",
    "\n",
    "# Analize the point in (X, Y)\n",
    "x = 0  # X coord \n",
    "y = 0  # Y coord\n",
    "\n",
    "# Encuentra los índices de los puntos más cercanos en el espacio PCA\n",
    "distancias = np.sqrt((descriptor_pca[:, 0] - x)**2 + (descriptor_pca[:, 1] - y)**2)\n",
    "indice_punto_interes = np.argsort(distancias)[1:5]\n",
    "\n",
    "# Accede al descriptor correspondiente al punto de interés\n",
    "descriptor_interes = descriptors[indice_punto_interes]\n",
    "\n",
    "for i in range(0,4):\n",
    "    for clave, val in ip_desc.items():\n",
    "        if str(val) == str(descriptor_interes[i]):\n",
    "            print(clave)"
   ]
  },
  {
   "cell_type": "code",
   "execution_count": 7,
   "id": "0feef857-9b0e-487a-8cca-89666b52ad04",
   "metadata": {},
   "outputs": [
    {
     "name": "stdout",
     "output_type": "stream",
     "text": [
      "172.30.0.62\n",
      "172.30.5.22\n",
      "172.31.172.69\n",
      "172.31.132.251\n"
     ]
    }
   ],
   "source": [
    "# Centroid (-20000, 0)\n",
    "\n",
    "# Analize the point in (X, Y)\n",
    "x = -20000  # X coord \n",
    "y = 0  # Y coord\n",
    "\n",
    "# Encuentra los índices de los puntos más cercanos en el espacio PCA\n",
    "distancias = np.sqrt((descriptor_pca[:, 0] - x)**2 + (descriptor_pca[:, 1] - y)**2)\n",
    "indice_punto_interes = np.argsort(distancias)[1:5]\n",
    "\n",
    "# Accede al descriptor correspondiente al punto de interés\n",
    "descriptor_interes = descriptors[indice_punto_interes]\n",
    "\n",
    "for i in range(0,4):\n",
    "    for clave, val in ip_desc.items():\n",
    "        if str(val) == str(descriptor_interes[i]):\n",
    "            print(clave)"
   ]
  },
  {
   "cell_type": "code",
   "execution_count": null,
   "id": "04350245-ac52-457f-bf25-33b42ae88490",
   "metadata": {},
   "outputs": [
    {
     "name": "stdout",
     "output_type": "stream",
     "text": [
      "10.2.4.18\n",
      "10.2.4.19\n"
     ]
    }
   ],
   "source": [
    "# Centroid (20000, 0)\n",
    "\n",
    "# Analize the point in (X, Y)\n",
    "x = 20000  # X coord \n",
    "y = 0  # Y coord\n",
    "\n",
    "# Encuentra los índices de los puntos más cercanos en el espacio PCA\n",
    "distancias = np.sqrt((descriptor_pca[:, 0] - x)**2 + (descriptor_pca[:, 1] - y)**2)\n",
    "indice_punto_interes = np.argsort(distancias)[1:5]\n",
    "\n",
    "# Accede al descriptor correspondiente al punto de interés\n",
    "descriptor_interes = descriptors[indice_punto_interes]\n",
    "\n",
    "for i in range(0,4):\n",
    "    for clave, val in ip_desc.items():\n",
    "        if str(val) == str(descriptor_interes[i]):\n",
    "            print(clave)"
   ]
  },
  {
   "cell_type": "code",
   "execution_count": null,
   "id": "1906b405-70fe-4390-b424-3430d40044e1",
   "metadata": {},
   "outputs": [],
   "source": []
  }
 ],
 "metadata": {
  "kernelspec": {
   "display_name": "Python 3 (ipykernel)",
   "language": "python",
   "name": "python3"
  },
  "language_info": {
   "codemirror_mode": {
    "name": "ipython",
    "version": 3
   },
   "file_extension": ".py",
   "mimetype": "text/x-python",
   "name": "python",
   "nbconvert_exporter": "python",
   "pygments_lexer": "ipython3",
   "version": "3.11.6"
  }
 },
 "nbformat": 4,
 "nbformat_minor": 5
}
