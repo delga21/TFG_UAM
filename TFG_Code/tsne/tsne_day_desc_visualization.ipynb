{
 "cells": [
  {
   "cell_type": "code",
   "execution_count": 2,
   "id": "cc0d1ee5-1fb0-4ad1-8fcd-40387aac90c0",
   "metadata": {},
   "outputs": [
    {
     "name": "stderr",
     "output_type": "stream",
     "text": [
      "/opt/conda/lib/python3.11/site-packages/sklearn/cluster/_kmeans.py:1416: FutureWarning: The default value of `n_init` will change from 10 to 'auto' in 1.4. Set the value of `n_init` explicitly to suppress the warning\n",
      "  super()._check_params_vs_input(X, default_n_init=10)\n"
     ]
    }
   ],
   "source": [
    "import matplotlib.pyplot as plt\n",
    "import numpy as np\n",
    "from sklearn.cluster import KMeans\n",
    "from sklearn.manifold import TSNE\n",
    "import glob\n",
    "\n",
    "# Example\n",
    "descriptors = []\n",
    "\n",
    "files = glob.glob(\"descriptors/day/descriptor*.npy\")\n",
    "for file in files:\n",
    "    partes = file.split(\"/\")\n",
    "    if len(partes) > 1:\n",
    "        file_name = partes[-1]\n",
    "        \n",
    "    descriptor = np.load(file).sum(axis=1)\n",
    "    descriptors += [descriptor]\n",
    "\n",
    "descriptors = np.asarray(np.matrix(descriptors))\n",
    "descriptors = np.nan_to_num(descriptors)\n",
    "\n",
    "# Number of clusters to user\n",
    "n_clusters = 3\n",
    "\n",
    "# Kmeans object with n_clusters\n",
    "kmeans = KMeans(n_clusters=n_clusters)\n",
    "\n",
    "# Adjust k-means to our descriptor\n",
    "kmeans.fit(descriptors)\n",
    "\n",
    "# Get the labels assigned to every \n",
    "labels = kmeans.labels_\n",
    "\n",
    "# Get the centroids coordinates of the cluster\n",
    "centroids = kmeans.cluster_centers_ \n",
    "\n",
    "tsne = TSNE(n_components=2) \n",
    "descriptor_tsne = tsne.fit_transform(descriptors)\n",
    "\n",
    "# Visualizar los clústeres en el espacio PCA\n",
    "plt.figure(figsize=(8, 6))\n",
    "\n",
    "# Dibujar cada punto de datos con un color correspondiente a su clúster asignado\n",
    "for i in range(n_clusters):\n",
    "    plt.scatter(descriptor_tsne[labels == i, 0], descriptor_tsne[labels == i, 1], label=f'Cluster {i+1}')\n",
    "\n",
    "plt.title('Agrupación de Descriptores con K-Means y TSNe')\n",
    "plt.xlabel('Componente Principal 1')\n",
    "plt.ylabel('Componente Principal 2')\n",
    "plt.legend()\n",
    "plt.grid(True)\n",
    "plt.savefig(f\"descriptors/visual_desc/day/tsne_day_cluster.pdf\")\n",
    "plt.close()"
   ]
  },
  {
   "cell_type": "code",
   "execution_count": null,
   "id": "bd1c2151-6f93-463d-a3f0-757012fba01e",
   "metadata": {},
   "outputs": [],
   "source": []
  }
 ],
 "metadata": {
  "kernelspec": {
   "display_name": "Python 3 (ipykernel)",
   "language": "python",
   "name": "python3"
  },
  "language_info": {
   "codemirror_mode": {
    "name": "ipython",
    "version": 3
   },
   "file_extension": ".py",
   "mimetype": "text/x-python",
   "name": "python",
   "nbconvert_exporter": "python",
   "pygments_lexer": "ipython3",
   "version": "3.11.6"
  }
 },
 "nbformat": 4,
 "nbformat_minor": 5
}
