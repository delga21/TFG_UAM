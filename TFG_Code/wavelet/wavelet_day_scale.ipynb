{
 "cells": [
  {
   "cell_type": "code",
   "execution_count": null,
   "metadata": {},
   "outputs": [],
   "source": [
    "!pip install PyWavelets"
   ]
  },
  {
   "cell_type": "code",
   "execution_count": null,
   "metadata": {},
   "outputs": [],
   "source": [
    "import pywt\n",
    "import numpy as np\n",
    "import matplotlib.pyplot as plt\n",
    "import glob\n",
    "import pandas as pd"
   ]
  },
  {
   "cell_type": "code",
   "execution_count": null,
   "metadata": {},
   "outputs": [],
   "source": [
    "files = glob.glob(\"shared-nvme/flujos_cepsa/procesa2-2021-0*.csv\")\n",
    "\n",
    "# Read CSV files\n",
    "# Save it in a CSV or parquet??\n",
    "dfs = []\n",
    "for file in files:\n",
    "    df = pd.read_csv(file)\n",
    "    dfs.append(df)\n",
    "\n",
    "# DataFrame with all the data\n",
    "combined_df = pd.concat(dfs, ignore_index=True)"
   ]
  },
  {
   "cell_type": "code",
   "execution_count": null,
   "metadata": {},
   "outputs": [],
   "source": [
    "i = 0\n",
    "wt='gaus1'\n",
    "scaleMax = 12*24 # 5min*12=1h 1h*24=1d\n",
    "\n",
    "# Plot every IP with more than 1000 points\n",
    "for ip, filtered_df in combined_df.groupby(\"targetIP\"):\n",
    "\n",
    "    if filtered_df.shape[0] < 1000:\n",
    "        continue\n",
    "    \n",
    "    i+=1\n",
    "    xx = filtered_df.sort_values(\"tref_start\", ascending=True)\n",
    "    X = xx.tref_start\n",
    "    Y = xx.bpsPhyRcv / xx.bpsPhyRcv.max()\n",
    "    plt.figure()\n",
    "    scales = np.arange(1,scaleMax,3) \n",
    "    coef, freqs=pywt.cwt(Y, scales, wt)\n",
    "    \n",
    "    # Calculate descriptor adding the Y axis\n",
    "    descriptor = coef.sum(axis=1)\n",
    "    \n",
    "    # Save the descriptor matrix in \n",
    "    file = f\"descriptors/day/descriptor_{ip}_exp.npy\"\n",
    "    with open(file, 'wb') as f:\n",
    "        np.save(file, coef)\n",
    "    \n",
    "    plt.matshow(coef)\n",
    "    #plt.title(f\"DWT({wt}) {ip}\")\n",
    "    #plt.savefig(f\"dwt/big_scales/{ip}_cwt_{wt}_{scaleMax}_plot.pdf\")  # Guardar el gráfico en la carpeta \"big_scales\" dentro de Jupyter\n",
    "    plt.close()"
   ]
  },
  {
   "cell_type": "code",
   "execution_count": null,
   "metadata": {},
   "outputs": [],
   "source": [
    "descriptor = coef.sum(axis=1)\n",
    "descriptor"
   ]
  },
  {
   "cell_type": "code",
   "execution_count": null,
   "metadata": {},
   "outputs": [],
   "source": []
  }
 ],
 "metadata": {
  "language_info": {
   "name": "python"
  }
 },
 "nbformat": 4,
 "nbformat_minor": 2
}
