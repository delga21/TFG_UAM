{
 "cells": [
  {
   "cell_type": "code",
   "execution_count": null,
   "id": "c95601fa-7a2a-4ca3-b0bd-3771bae9a879",
   "metadata": {},
   "outputs": [],
   "source": [
    "!pip install PyWavelets"
   ]
  },
  {
   "cell_type": "code",
   "execution_count": null,
   "id": "527d4dea-f2bd-436f-9d59-b07bde586070",
   "metadata": {},
   "outputs": [],
   "source": [
    "import pywt\n",
    "import numpy as np\n",
    "import matplotlib.pyplot as plt\n",
    "import glob\n",
    "import pandas as pd"
   ]
  },
  {
   "cell_type": "code",
   "execution_count": null,
   "id": "1325a3e1-b838-4098-8029-99bed2400041",
   "metadata": {},
   "outputs": [],
   "source": [
    "files = glob.glob(\"shared-nvme/flujos_cepsa/procesa2-2021-0*.csv\")\n",
    "\n",
    "# Read CSV files\n",
    "# Save it in a CSV or parquet??\n",
    "dfs = []\n",
    "for file in files:\n",
    "    df = pd.read_csv(file)\n",
    "    dfs.append(df)\n",
    "\n",
    "# DataFrame with all the data\n",
    "combined_df = pd.concat(dfs, ignore_index=True)"
   ]
  },
  {
   "cell_type": "code",
   "execution_count": null,
   "id": "bda503bc-5b17-4497-a0ad-83b7925c04fe",
   "metadata": {},
   "outputs": [],
   "source": [
    "wt='gaus1'\n",
    "scaleMax = 10+1 # 2^10=1024 \n",
    "\n",
    "# Plot every IP with more than 1000 points\n",
    "for ip, filtered_df in combined_df.groupby(\"targetIP\"):\n",
    "\n",
    "    if filtered_df.shape[0] < 1000:\n",
    "        continue\n",
    "    \n",
    "    print(ip)\n",
    "    xx = filtered_df.sort_values(\"tref_start\", ascending=True)\n",
    "    X = xx.tref_start\n",
    "    Y = xx.bpsPhyRcv / xx.bpsPhyRcv.max()\n",
    "    plt.figure()\n",
    "    scales = np.power(2, np.arange(scaleMax)) \n",
    "    coef, freqs=pywt.cwt(Y, scales, wt)\n",
    "    \n",
    "    # Calculate descriptor adding the Y axis\n",
    "    descriptor = coef.sum(axis=1)\n",
    "    \n",
    "    # Save the descriptor matrix in \n",
    "    file = f\"descriptors/exp/descriptor_{ip}_exp.npy\"\n",
    "    with open(file, 'wb') as f:\n",
    "        np.save(file, coef)\n",
    "        \n",
    "    plt.matshow(coef) \n",
    "    plt.title(f\"DWT({wt}) {ip}\")\n",
    "    plt.savefig(f\"dwt/exp/{ip}_cwt_{wt}_{scaleMax}_plot.pdf\")\n",
    "    plt.close()"
   ]
  }
 ],
 "metadata": {
  "kernelspec": {
   "display_name": "Python 3 (ipykernel)",
   "language": "python",
   "name": "python3"
  },
  "language_info": {
   "codemirror_mode": {
    "name": "ipython",
    "version": 3
   },
   "file_extension": ".py",
   "mimetype": "text/x-python",
   "name": "python",
   "nbconvert_exporter": "python",
   "pygments_lexer": "ipython3",
   "version": "3.11.6"
  }
 },
 "nbformat": 4,
 "nbformat_minor": 5
}
