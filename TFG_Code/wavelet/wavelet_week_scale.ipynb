{
 "cells": [
  {
   "cell_type": "code",
   "execution_count": 1,
   "id": "df147dbd-4704-49cb-8d0e-e3f3afcd3349",
   "metadata": {},
   "outputs": [
    {
     "name": "stdout",
     "output_type": "stream",
     "text": [
      "\u001b[33mWARNING: The directory '/home/adelgado/.cache/pip' or its parent directory is not owned or is not writable by the current user. The cache has been disabled. Check the permissions and owner of that directory. If executing pip with sudo, you should use sudo's -H flag.\u001b[0m\u001b[33m\n",
      "\u001b[0mDefaulting to user installation because normal site-packages is not writeable\n",
      "Requirement already satisfied: PyWavelets in /opt/conda/lib/python3.11/site-packages (1.4.1)\n",
      "Requirement already satisfied: numpy>=1.17.3 in /opt/conda/lib/python3.11/site-packages (from PyWavelets) (1.24.4)\n"
     ]
    }
   ],
   "source": [
    "!pip install PyWavelets"
   ]
  },
  {
   "cell_type": "code",
   "execution_count": 2,
   "id": "c6db151e-3666-4ec1-9764-dddb434c9e8e",
   "metadata": {},
   "outputs": [
    {
     "name": "stderr",
     "output_type": "stream",
     "text": [
      "Matplotlib created a temporary cache directory at /tmp/matplotlib-5yf6bwq8 because the default path (/home/adelgado/.cache/matplotlib) is not a writable directory; it is highly recommended to set the MPLCONFIGDIR environment variable to a writable directory, in particular to speed up the import of Matplotlib and to better support multiprocessing.\n"
     ]
    }
   ],
   "source": [
    "import pywt\n",
    "import numpy as np\n",
    "import matplotlib.pyplot as plt\n",
    "import glob\n",
    "import pandas as pd"
   ]
  },
  {
   "cell_type": "code",
   "execution_count": 3,
   "id": "873ee7e2-6707-45d0-8791-811501a743e0",
   "metadata": {},
   "outputs": [],
   "source": [
    "files = glob.glob(\"shared-nvme/flujos_cepsa/procesa2-2021-0*.csv\")\n",
    "\n",
    "# Read CSV files\n",
    "# Save it in a CSV or parquet??\n",
    "dfs = []\n",
    "for file in files:\n",
    "    df = pd.read_csv(file)\n",
    "    dfs.append(df)\n",
    "\n",
    "# DataFrame with all the data\n",
    "combined_df = pd.concat(dfs, ignore_index=True)"
   ]
  },
  {
   "cell_type": "code",
   "execution_count": null,
   "id": "4c16695c-eb21-4d79-b653-215fcb7da9a8",
   "metadata": {},
   "outputs": [
    {
     "name": "stderr",
     "output_type": "stream",
     "text": [
      "/tmp/ipykernel_682027/166979833.py:23: RuntimeWarning: More than 20 figures have been opened. Figures created through the pyplot interface (`matplotlib.pyplot.figure`) are retained until explicitly closed and may consume too much memory. (To control this warning, see the rcParam `figure.max_open_warning`). Consider using `matplotlib.pyplot.close()`.\n",
      "  plt.matshow(coef)\n",
      "/tmp/ipykernel_682027/166979833.py:15: RuntimeWarning: More than 20 figures have been opened. Figures created through the pyplot interface (`matplotlib.pyplot.figure`) are retained until explicitly closed and may consume too much memory. (To control this warning, see the rcParam `figure.max_open_warning`). Consider using `matplotlib.pyplot.close()`.\n",
      "  plt.figure()\n"
     ]
    }
   ],
   "source": [
    "i = 0\n",
    "wt='gaus1'\n",
    "scaleMax = 12*24*7 # 5min*12=1h 1h*24=1d 1d*7=1week\n",
    "\n",
    "# Plot every IP with more than 1000 points\n",
    "for ip, filtered_df in combined_df.groupby(\"targetIP\"):\n",
    "    \n",
    "    if filtered_df.shape[0] < 1000:\n",
    "        continue\n",
    "        \n",
    "    i+=1\n",
    "    xx = filtered_df.sort_values(\"tref_start\", ascending=True)\n",
    "    X = xx.tref_start\n",
    "    Y = xx.bpsPhyRcv / xx.bpsPhyRcv.max()\n",
    "    plt.figure()\n",
    "    scales = np.arange(1,scaleMax,3) \n",
    "    coef, freqs=pywt.cwt(Y, scales, wt)\n",
    "\n",
    "    file = f\"descriptors/week/descriptor_{ip}_exp.npy\"\n",
    "    with open(file, 'wb') as f:\n",
    "        np.save(file, coef)\n",
    "    \n",
    "    plt.matshow(coef) \n",
    "    plt.title(f\"DWT({wt}) {ip}\")\n",
    "    plt.savefig(f\"dwt/big_scales/{ip}_cwt_{wt}_{scaleMax}_plot.pdf\")   # Guardar el gráfico en la carpeta \"big_scales\" dentro de Jupyter\n",
    "    plt.close()"
   ]
  },
  {
   "cell_type": "code",
   "execution_count": null,
   "id": "a373b88c-1bb7-4f69-add8-2fe8e04913fb",
   "metadata": {},
   "outputs": [],
   "source": [
    "descriptor = coef.sum(axis=1)\n",
    "descriptor"
   ]
  }
 ],
 "metadata": {
  "kernelspec": {
   "display_name": "Python 3 (ipykernel)",
   "language": "python",
   "name": "python3"
  },
  "language_info": {
   "codemirror_mode": {
    "name": "ipython",
    "version": 3
   },
   "file_extension": ".py",
   "mimetype": "text/x-python",
   "name": "python",
   "nbconvert_exporter": "python",
   "pygments_lexer": "ipython3",
   "version": "3.11.6"
  }
 },
 "nbformat": 4,
 "nbformat_minor": 5
}
